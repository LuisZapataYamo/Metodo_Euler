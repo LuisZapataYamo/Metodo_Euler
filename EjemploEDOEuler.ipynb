{
  "nbformat": 4,
  "nbformat_minor": 0,
  "metadata": {
    "colab": {
      "name": "EjemploEDOEuler.ipynb",
      "provenance": [],
      "collapsed_sections": [],
      "authorship_tag": "ABX9TyP5UV5uEtQ/h5HwKf6Y2yfw"
    },
    "kernelspec": {
      "name": "python3",
      "display_name": "Python 3"
    }
  },
  "cells": [
    {
      "cell_type": "markdown",
      "metadata": {
        "id": "n8Ele6n3cTkv"
      },
      "source": [
        "#Metodo de Euler con Python"
      ]
    },
    {
      "cell_type": "markdown",
      "metadata": {
        "id": "7FUzjk4Jflix"
      },
      "source": [
        "## Introducción"
      ]
    },
    {
      "cell_type": "markdown",
      "metadata": {
        "id": "SPY-bXnViZVo"
      },
      "source": [
        "### Historia"
      ]
    },
    {
      "cell_type": "markdown",
      "metadata": {
        "id": "5AfPa633ivIo"
      },
      "source": [
        "En general, se llaman numéricos aquellos métodos que permiten obtener, aunque sea con carácter aproximado, la solución de\r\n",
        "un problema matemático mediante el uso de un número finito y practicable de operaciones aritméticas: sumas, restas, multiplicaciones y\r\n",
        "divisiones. En el estudio de los métodos numéricos entran en consideración tanto la mejor o peor aproximación de la solución calculada,\r\n",
        "como el mayor o menor coste del cálculo.\r\n",
        "En el caso de las ecuaciones diferenciales ordinarias, los métodos\r\n",
        "numéricos pueden presumir de una genealogía muy distinguida. El\r\n",
        "primero y más simple fue introducido por Euler en 1768 (Institutionum Calculi Integralis, Volumen Primum); aún se emplea en algunos\r\n",
        "casos y juega todavía un papel destacado en la didáctica del Análisis\r\n",
        "Numérico.9\r\n",
        " Puede describirse, como es bien sabido, como el reemplazamiento de la solución por una poligonal, o, alternativamente,\r\n",
        "como la substitución del verdadero incremento que media entre el\r\n",
        "estado presente de la solución y el estado futuro por el incremento\r\n",
        "aproximado correspondiente a la recta tangente (desarrollo de Taylor\r\n",
        "de primer orden)."
      ]
    },
    {
      "cell_type": "markdown",
      "metadata": {
        "id": "1M5BPLqe9bly"
      },
      "source": [
        "### Explicación del Método"
      ]
    },
    {
      "cell_type": "markdown",
      "metadata": {
        "id": "7V2a8Y4NcdQX"
      },
      "source": [
        "- Es un metodo númerico que mediante aproximaciones en intervalos se va generando una funcion por la union de sus puntos.\r\n",
        "- Tenemos que tener los extremos del dominio a evaluar $[a, b]$ y tambien el valor de $Y{(0)}$.\r\n",
        "- Siendo $n$ el número de intervalos, entonces la variación de x por cada intervalo es $ h = (b-a)/n$.<br>\r\n",
        "- Entonces x va variando de la forma:$X_{n} = X_{n-1} + h$ <br>\r\n",
        "- En $y$ la funcion varia de la forma: $Y_{n} = Y_{n-1} + h*Y{'}$"
      ]
    },
    {
      "cell_type": "markdown",
      "metadata": {
        "id": "ZUVooVeOiPPH"
      },
      "source": [
        "## Planteamiento del Problema"
      ]
    },
    {
      "cell_type": "markdown",
      "metadata": {
        "id": "0Nrb3p1binMt"
      },
      "source": [
        "> La tasa de crecimiento de una determinada\r\n",
        "población de bacterias es directamente proporcional al número de bacterias existentes. Se\r\n",
        "realiza un cultivo en laboratorio, introduciendo 2.5 millones de bacterias en un recipiente.Con una constante de proporcionalidad de 0.231. Calcular la población existente al cabo de 11 horas."
      ]
    },
    {
      "cell_type": "markdown",
      "metadata": {
        "id": "tR1eZGsA7vqQ"
      },
      "source": [
        "> Primero plantearemos el modelo matematico, en este caso se menciona que el crecimiento es directamente proporcional a la población existente, entonces:\r\n",
        "> - $\\frac{dP(t)}{dt} = 0,231P(t)$\r\n",
        "\r\n",
        "> Las condiciones iniciales dadas son:\r\n",
        "  - $P(0) = 2.5 $ millones\r\n",
        "\r\n",
        "> Nos piden hallar $P(11)$"
      ]
    },
    {
      "cell_type": "markdown",
      "metadata": {
        "id": "2VQh3nZ8fxaM"
      },
      "source": [
        "## Resolución del Problema"
      ]
    },
    {
      "cell_type": "markdown",
      "metadata": {
        "id": "lmv53cjUB0aH"
      },
      "source": [
        "### Solución manual"
      ]
    },
    {
      "cell_type": "markdown",
      "metadata": {
        "id": "q9y3jzhA36sx"
      },
      "source": [
        "> Luego por variables separables:\r\n",
        "  - $\\frac{dP(t)}{P(t)} = 0,231dt$\r\n",
        "\r\n",
        "> Integramos:\r\n",
        "  - $\\int\\frac{dP(t)}{P(t)} = 0,231\\int dt$\r\n",
        "\r\n",
        "> Resultado de integrar:\r\n",
        "  - $Ln(P(t)) = 0.231 t + C_{1}$\r\n",
        "\r\n",
        "> La solución de la EDO de primer orden es:\r\n",
        "  - $ P(t) = C e^{0.231t}$ \r\n",
        "\r\n",
        "> Luego hallando la sución particular:\r\n",
        ">  - Para $P(0) = 2.5$<br>\r\n",
        "    $ P(0) = 2.5 = C e^{0.231(0)}$ <br>\r\n",
        "    $ -> C = 2.5$\r\n",
        "\r\n",
        "> La solución particular es:<br>\r\n",
        "  $P(t) = 2.5 e^{0.231 t}$\r\n",
        "\r\n",
        "> Hallando P(11):\r\n",
        "  $ P(11) = 2.5 e^{0.231*11} = 31.75$"
      ]
    },
    {
      "cell_type": "markdown",
      "metadata": {
        "id": "LvGlLH74B8KC"
      },
      "source": [
        "### Solución por el Método de Euler Implementado en Python"
      ]
    },
    {
      "cell_type": "markdown",
      "metadata": {
        "id": "E7bzAkA_CehI"
      },
      "source": [
        "- Como premiza tenemos que la ecuación diferencial es:\r\n",
        "  - $\\frac{dP(t)}{P(t)} = 0.231 P(t)$"
      ]
    },
    {
      "cell_type": "markdown",
      "metadata": {
        "id": "xuttGLM6cho2"
      },
      "source": [
        "#### Proyecto"
      ]
    },
    {
      "cell_type": "markdown",
      "metadata": {
        "id": "jBPQTQhudHHO"
      },
      "source": [
        "- Importamos las librerias en el proyecto"
      ]
    },
    {
      "cell_type": "code",
      "metadata": {
        "id": "mLajT8X5_7cn"
      },
      "source": [
        "# Hacemos uso de pyplot de la libreria matplotlib\r\n",
        "from matplotlib import pyplot as plt\r\n",
        "# Importamon numpy para la grafica real de e^x\r\n",
        "import numpy as np\r\n",
        "import math\r\n",
        "import sympy\r\n",
        "from IPython.display import display, Markdown"
      ],
      "execution_count": null,
      "outputs": []
    },
    {
      "cell_type": "markdown",
      "metadata": {
        "id": "sHFbZEuXelU1"
      },
      "source": [
        "- Inicializamos los parámetros:\r\n",
        "  - y0: $y(0)$\r\n",
        "  - a: Extremo inferior del domínio\r\n",
        "  - b: Extremo superior del domínio \r\n",
        "  - k: Numero de intervalos para evaluar"
      ]
    },
    {
      "cell_type": "code",
      "metadata": {
        "id": "5UHn7EMkyQGg"
      },
      "source": [
        "# Parametros de ka función: valores extremos -> [a,b] , cantidad de intervalos -> N, Valor Y(0)\r\n",
        "# Datos iniciales               \r\n",
        "y0= 2.5                                # Valor inicial en 'y'\r\n",
        "a = 0                               # Extremo inferior sobre 'x'\r\n",
        "b = 11                               # Extremo superior sobre 'x'\r\n",
        "k = 100                             # Número de intervalos"
      ],
      "execution_count": null,
      "outputs": []
    },
    {
      "cell_type": "markdown",
      "metadata": {
        "id": "f6xikq-eXsd6"
      },
      "source": [
        "- Resolvemos la ecuación con sympy"
      ]
    },
    {
      "cell_type": "code",
      "metadata": {
        "colab": {
          "base_uri": "https://localhost:8080/",
          "height": 375
        },
        "id": "qRH3LGEFWAV6",
        "outputId": "d93c22ab-b751-45a0-e517-07f7417b5978"
      },
      "source": [
        "# Para mostral resultado\r\n",
        "t = sympy.Symbol('t')\r\n",
        "p = sympy.Function('P')\r\n",
        "# expreso la ecuacion\r\n",
        "f_sym = 0.231 * (p(t))\r\n",
        "\r\n",
        "# Ecuacion\r\n",
        "eq = sympy.Eq(p(t).diff(t), f_sym)\r\n",
        "display(\r\n",
        "    Markdown(\r\n",
        "        'Solucion: {}'.format(sympy.latex(eq, mode='inline'))\r\n",
        "    )\r\n",
        ")\r\n",
        "# Añadiendo condiciones iniciales\r\n",
        "IC = {p(0): 2.5}\r\n",
        "# Resolviendo la ecuación\r\n",
        "sol = sympy.dsolve(eq,p(t), ics=IC)\r\n",
        "display(\r\n",
        "    Markdown(\r\n",
        "        'Solucion Particular: {}'.format(sympy.latex(sol, mode='inline'))\r\n",
        "    )\r\n",
        ")\r\n",
        "# Graficando a P(t)\r\n",
        "X = np.linspace(a, b, 100, endpoint=True)\r\n",
        "Y = 2.5*np.exp(0.231*X) # P(t) = 2.5*e^(0.231*t)\r\n",
        "plt.plot(X, Y, color=\"blue\", linestyle=\"-\",label=\"2.5e^(0.231t)\")\r\n",
        "plt.xlabel('x')\r\n",
        "plt.ylabel('y')\r\n",
        "plt.title('Metodo de Euler')\r\n",
        "plt.legend(loc='upper left')"
      ],
      "execution_count": null,
      "outputs": [
        {
          "output_type": "display_data",
          "data": {
            "text/markdown": "Solucion: $\\frac{d}{d t} P{\\left (t \\right )} = 0.231 P{\\left (t \\right )}$",
            "text/plain": [
              "<IPython.core.display.Markdown object>"
            ]
          },
          "metadata": {
            "tags": []
          }
        },
        {
          "output_type": "display_data",
          "data": {
            "text/markdown": "Solucion Particular: $P{\\left (t \\right )} = C_{1} e^{0.231 t}$",
            "text/plain": [
              "<IPython.core.display.Markdown object>"
            ]
          },
          "metadata": {
            "tags": []
          }
        },
        {
          "output_type": "execute_result",
          "data": {
            "text/plain": [
              "<matplotlib.legend.Legend at 0x7fe13428f828>"
            ]
          },
          "metadata": {
            "tags": []
          },
          "execution_count": 31
        },
        {
          "output_type": "display_data",
          "data": {
            "image/png": "[encoded data removed]",
            "text/plain": [
              "<Figure size 432x288 with 1 Axes>"
            ]
          },
          "metadata": {
            "tags": [],
            "needs_background": "light"
          }
        }
      ]
    },
    {
      "cell_type": "markdown",
      "metadata": {
        "id": "0t0P96WHYP5v"
      },
      "source": [
        "- Definimos una funcion con la retornando el resultado de evaluar x y y en la EDO"
      ]
    },
    {
      "cell_type": "code",
      "metadata": {
        "id": "v4bTB8F1YYJq"
      },
      "source": [
        "def y_derivada(x, y):\r\n",
        "  f = 0.231*y\r\n",
        "  return f"
      ],
      "execution_count": null,
      "outputs": []
    },
    {
      "cell_type": "markdown",
      "metadata": {
        "id": "8qBCyruGc4lx"
      },
      "source": [
        "- Definimos el metodo de Euler en dos funciones:\r\n",
        "  - La variacion de x: var_x(a, b, n)\r\n",
        "  - La variacion de y: var_y(a, b, n,y0)"
      ]
    },
    {
      "cell_type": "code",
      "metadata": {
        "id": "uF_Fhun2nN56"
      },
      "source": [
        "# Variación en X para euler\r\n",
        "def var_x(a,b,n):\r\n",
        "  x = [a]\r\n",
        "  h = (b-a)/n\r\n",
        "  for k in range(n):\r\n",
        "    x.append(x[k] + h)\r\n",
        "  return x\r\n",
        "\r\n",
        "# Variacion en Y para euler \r\n",
        "def var_y(a,b,n, y0):\r\n",
        "  x = var_x(a,b,n)\r\n",
        "  y = [y0]\r\n",
        "  h = (b-a)/n\r\n",
        "  for k in range(n):\r\n",
        "    # Implementamos el metodo de Euler\r\n",
        "    y.append(y[k] + h * y_derivada(x[k], y[k]))\r\n",
        "  return y"
      ],
      "execution_count": null,
      "outputs": []
    },
    {
      "cell_type": "markdown",
      "metadata": {
        "id": "k2brrI7fX0L6"
      },
      "source": [
        "- Graficamos mediante el metodo de euler"
      ]
    },
    {
      "cell_type": "code",
      "metadata": {
        "id": "Wpxz4tQ6Qnu0"
      },
      "source": [
        "for n in range(1,k):\r\n",
        "  # Hallamos los valores de X y Y para esos valores iniciales\r\n",
        "  x = var_x(a,b,n)\r\n",
        "  y = var_y(a,b,n,y0)\r\n",
        "  ## Asignamos los valores\r\n",
        "  lb = \"Metodo de euler(n=\"+ str(n) + \")(y(11)=\" + \"{0:.4f}\".format(y[-1]) + \")\" \r\n",
        "  plt.plot(x,y, color=\"red\", linestyle=\"-\",label=lb)\r\n",
        "\r\n",
        "  # Comparando con grafica real\r\n",
        "  X = np.linspace(a, b, 100, endpoint=True)\r\n",
        "  Y = 2.5*np.exp(0.231*X) # P(t) = 2.5*e^(0.231*t)\r\n",
        "  plt.plot(X, Y, color=\"blue\", linestyle=\"-\",label=\"Sin metodo de euler\")\r\n",
        "  plt.xlabel('x')\r\n",
        "  plt.ylabel('y')\r\n",
        "  plt.title('Metodo de Euler')\r\n",
        "  plt.legend(loc='upper left')\r\n",
        "  plt.show()"
      ],
      "execution_count": null,
      "outputs": []
    },
    {
      "cell_type": "markdown",
      "metadata": {
        "id": "ca8yBjqQokDP"
      },
      "source": [
        "## Conclusiones"
      ]
    },
    {
      "cell_type": "markdown",
      "metadata": {
        "id": "ONuONiKAoqJ7"
      },
      "source": [
        ">Como vemos, al llegar a la aproximación n=99 el valor de P(11) es igual a 30.7297 , mientras que en la solución particular P(11) llega a ser igual a 31.730. Este “error” es debido a que el Método de Euler aproxima la función solución por medio de una línea poligonal. Por lo tanto la aproximación será peor mientras más alejados estemos de su punto inicial. Y el error será más evidente mientras mayor sea el valor de h.\r\n"
      ]
    },
    {
      "cell_type": "markdown",
      "metadata": {
        "id": "qT9gU1L6ntM4"
      },
      "source": [
        "![Euler(n=99).png](data:image/png;base64,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)"
      ]
    },
    {
      "cell_type": "markdown",
      "metadata": {
        "id": "y_4EhRTZntpU"
      },
      "source": [
        ">Sin embargo , este “error” nos sirve para poder seguir y repetir el proceso anterior y generar nuevas aproximaciones que estén más cerca al valor real. A eso agregarle que el número h que colocamos (número de cálculos) es un valor finito , agrega un error extra (Error de Redondeo)"
      ]
    }
  ]
}